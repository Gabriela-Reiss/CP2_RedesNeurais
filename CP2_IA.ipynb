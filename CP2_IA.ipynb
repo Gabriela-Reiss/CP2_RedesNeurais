{
  "nbformat": 4,
  "nbformat_minor": 0,
  "metadata": {
    "colab": {
      "provenance": [],
      "include_colab_link": true
    },
    "kernelspec": {
      "name": "python3",
      "display_name": "Python 3"
    },
    "language_info": {
      "name": "python"
    }
  },
  "cells": [
    {
      "cell_type": "markdown",
      "metadata": {
        "id": "view-in-github",
        "colab_type": "text"
      },
      "source": [
        "<a href=\"https://colab.research.google.com/github/Gabriela-Reiss/CP2_RedesNeurais/blob/main/CP2_IA.ipynb\" target=\"_parent\"><img src=\"https://colab.research.google.com/assets/colab-badge.svg\" alt=\"Open In Colab\"/></a>"
      ]
    },
    {
      "cell_type": "markdown",
      "source": [
        "##**Atividade - Treinamento de Redes Neurais com Keras**"
      ],
      "metadata": {
        "id": "oKn4ApE7K7pu"
      }
    },
    {
      "cell_type": "markdown",
      "source": [
        "### **Exercício 1**\n",
        "\n",
        "**Dataset de pesquisa:** https://archive.ics.uci.edu/dataset/109/wine\n"
      ],
      "metadata": {
        "id": "8GgrAZIOLKgm"
      }
    },
    {
      "cell_type": "markdown",
      "source": [
        "Passo a passo de execução:\n",
        "\n",
        "1. Usar o dataset Wine do UCI (arquivo wine.data)\n",
        "2. Construir uma rede neural em Keras\n",
        "3. Avaliar no conjunto de teste\n",
        "4. Comparar com RandomForest e LogisticRegression (scikit-learn)\n",
        "5. Apresentar as métricas de avaliação"
      ],
      "metadata": {
        "id": "XQTMJ5WELiRd"
      }
    },
    {
      "cell_type": "code",
      "execution_count": null,
      "metadata": {
        "id": "z-u-3m20KqiO"
      },
      "outputs": [],
      "source": [
        "# Importações\n",
        "import numpy as np\n",
        "import pandas as pd\n",
        "import matplotlib.pyplot as plt"
      ]
    },
    {
      "cell_type": "code",
      "source": [
        "from sklearn.model_selection import train_test_split\n",
        "from sklearn.preprocessing import StandardScaler\n",
        "from sklearn.metrics import classification_report, confusion_matrix, accuracy_score\n",
        "\n",
        "import tensorflow as tf\n",
        "from tensorflow.keras.models import Sequential\n",
        "from tensorflow.keras.layers import Dense, Dropout\n",
        "from tensorflow.keras.utils import to_categorical\n",
        "from tensorflow.keras.callbacks import EarlyStopping\n",
        "\n",
        "from sklearn.ensemble import RandomForestClassifier\n",
        "from sklearn.linear_model import LogisticRegression"
      ],
      "metadata": {
        "id": "CXFo27C-K7gm"
      },
      "execution_count": null,
      "outputs": []
    },
    {
      "cell_type": "code",
      "source": [
        "# Nomes das colunas de acordo com o arquivo wine.names\n",
        "colunas = [\n",
        "    'Class',\n",
        "    'Alcohol',\n",
        "    'Malic_acid',\n",
        "    'Ash',\n",
        "    'Alcalinity_of_ash',\n",
        "    'Magnesium',\n",
        "    'Total_phenols',\n",
        "    'Flavanoids',\n",
        "    'Nonflavanoid_phenols',\n",
        "    'Proanthocyanins',\n",
        "    'Color_intensity',\n",
        "    'Hue',\n",
        "    'OD280/OD315_of_diluted_wines',\n",
        "    'Proline'\n",
        "]"
      ],
      "metadata": {
        "id": "OjXTZ5QvQ_6M"
      },
      "execution_count": null,
      "outputs": []
    },
    {
      "cell_type": "code",
      "source": [
        "# Leitura do arquivo wine.data (sem cabeçalho)\n",
        "df = pd.read_csv(\"wine.data\", header=None, names=colunas)\n",
        "\n",
        "print(\"Visualizando primeiras linhas do dataset:\")\n",
        "print(df.head())\n",
        "print(\"\\nDimensões:\", df.shape)"
      ],
      "metadata": {
        "colab": {
          "base_uri": "https://localhost:8080/"
        },
        "id": "7f4QBZv_RF0m",
        "outputId": "288d3c84-dd6e-4edb-d470-05e719921732"
      },
      "execution_count": null,
      "outputs": [
        {
          "output_type": "stream",
          "name": "stdout",
          "text": [
            "Visualizando primeiras linhas do dataset:\n",
            "   Class  Alcohol  Malic_acid   Ash  Alcalinity_of_ash  Magnesium  \\\n",
            "0      1    14.23        1.71  2.43               15.6        127   \n",
            "1      1    13.20        1.78  2.14               11.2        100   \n",
            "2      1    13.16        2.36  2.67               18.6        101   \n",
            "3      1    14.37        1.95  2.50               16.8        113   \n",
            "4      1    13.24        2.59  2.87               21.0        118   \n",
            "\n",
            "   Total_phenols  Flavanoids  Nonflavanoid_phenols  Proanthocyanins  \\\n",
            "0           2.80        3.06                  0.28             2.29   \n",
            "1           2.65        2.76                  0.26             1.28   \n",
            "2           2.80        3.24                  0.30             2.81   \n",
            "3           3.85        3.49                  0.24             2.18   \n",
            "4           2.80        2.69                  0.39             1.82   \n",
            "\n",
            "   Color_intensity   Hue  OD280/OD315_of_diluted_wines  Proline  \n",
            "0             5.64  1.04                          3.92     1065  \n",
            "1             4.38  1.05                          3.40     1050  \n",
            "2             5.68  1.03                          3.17     1185  \n",
            "3             7.80  0.86                          3.45     1480  \n",
            "4             4.32  1.04                          2.93      735  \n",
            "\n",
            "Dimensões: (178, 14)\n"
          ]
        }
      ]
    },
    {
      "cell_type": "code",
      "source": [
        "# Preparando dados (x= atributos, y = classes)\n",
        "X = df.drop(\"Class\", axis=1).values\n",
        "y = df[\"Class\"].values - 1\n",
        "\n",
        "\n",
        "# Separando em treino e teste (80/20)\n",
        "X_train, X_test, y_train, y_test = train_test_split(\n",
        "    X, y, test_size=0.2, stratify=y, random_state=42\n",
        ")\n"
      ],
      "metadata": {
        "id": "OF6V8twuRIsm"
      },
      "execution_count": null,
      "outputs": []
    },
    {
      "cell_type": "code",
      "source": [
        "# Normalização\n",
        "scaler = StandardScaler()\n",
        "X_train_scaled = scaler.fit_transform(X_train)\n",
        "X_test_scaled = scaler.transform(X_test)\n",
        "\n",
        "# One-hot encoding para a rede neural\n",
        "y_train_cat = to_categorical(y_train, num_classes=3)\n",
        "y_test_cat = to_categorical(y_test, num_classes=3)"
      ],
      "metadata": {
        "id": "yvslCDTPRSGt"
      },
      "execution_count": null,
      "outputs": []
    },
    {
      "cell_type": "code",
      "source": [
        "# Contruindo rede neural em Keras\n",
        "model = Sequential()\n",
        "model.add(Dense(32, activation='relu', input_shape=(X_train_scaled.shape[1],)))\n",
        "model.add(Dropout(0.2))\n",
        "model.add(Dense(32, activation='relu'))\n",
        "model.add(Dropout(0.2))\n",
        "model.add(Dense(3, activation='softmax'))\n",
        "\n",
        "model.compile(optimizer='adam',\n",
        "              loss='categorical_crossentropy',\n",
        "              metrics=['accuracy'])\n",
        "\n",
        "es = EarlyStopping(monitor='val_loss', patience=15, restore_best_weights=True, verbose=1)"
      ],
      "metadata": {
        "colab": {
          "base_uri": "https://localhost:8080/"
        },
        "id": "zUXL7SAuRWUa",
        "outputId": "a2b3a909-6173-43c6-a1e5-21ff6fa3d3f1"
      },
      "execution_count": null,
      "outputs": [
        {
          "output_type": "stream",
          "name": "stderr",
          "text": [
            "/usr/local/lib/python3.12/dist-packages/keras/src/layers/core/dense.py:93: UserWarning: Do not pass an `input_shape`/`input_dim` argument to a layer. When using Sequential models, prefer using an `Input(shape)` object as the first layer in the model instead.\n",
            "  super().__init__(activity_regularizer=activity_regularizer, **kwargs)\n"
          ]
        }
      ]
    },
    {
      "cell_type": "code",
      "source": [
        "#Treinamento\n",
        "history = model.fit(\n",
        "    X_train_scaled, y_train_cat,\n",
        "    validation_split=0.2,\n",
        "    epochs=200,\n",
        "    batch_size=16,\n",
        "    callbacks=[es],\n",
        "    verbose=2\n",
        ")"
      ],
      "metadata": {
        "colab": {
          "base_uri": "https://localhost:8080/"
        },
        "id": "cg1jfhhXRj_-",
        "outputId": "25c1836d-81a3-4978-a57e-80b7581224a2"
      },
      "execution_count": null,
      "outputs": [
        {
          "output_type": "stream",
          "name": "stdout",
          "text": [
            "Epoch 1/200\n",
            "8/8 - 2s - 299ms/step - accuracy: 0.4513 - loss: 1.0928 - val_accuracy: 0.8276 - val_loss: 0.8040\n",
            "Epoch 2/200\n",
            "8/8 - 0s - 14ms/step - accuracy: 0.5752 - loss: 0.9461 - val_accuracy: 0.9310 - val_loss: 0.6944\n",
            "Epoch 3/200\n",
            "8/8 - 0s - 15ms/step - accuracy: 0.6991 - loss: 0.7784 - val_accuracy: 0.8966 - val_loss: 0.6052\n",
            "Epoch 4/200\n",
            "8/8 - 0s - 15ms/step - accuracy: 0.7876 - loss: 0.7336 - val_accuracy: 0.9310 - val_loss: 0.5287\n",
            "Epoch 5/200\n",
            "8/8 - 0s - 15ms/step - accuracy: 0.8230 - loss: 0.6529 - val_accuracy: 0.9310 - val_loss: 0.4612\n",
            "Epoch 6/200\n",
            "8/8 - 0s - 14ms/step - accuracy: 0.8673 - loss: 0.5327 - val_accuracy: 0.9310 - val_loss: 0.4064\n",
            "Epoch 7/200\n",
            "8/8 - 0s - 14ms/step - accuracy: 0.9469 - loss: 0.4845 - val_accuracy: 0.9310 - val_loss: 0.3562\n",
            "Epoch 8/200\n",
            "8/8 - 0s - 14ms/step - accuracy: 0.8938 - loss: 0.4486 - val_accuracy: 0.9310 - val_loss: 0.3142\n",
            "Epoch 9/200\n",
            "8/8 - 0s - 13ms/step - accuracy: 0.9027 - loss: 0.4018 - val_accuracy: 0.9310 - val_loss: 0.2760\n",
            "Epoch 10/200\n",
            "8/8 - 0s - 14ms/step - accuracy: 0.9292 - loss: 0.3565 - val_accuracy: 0.9655 - val_loss: 0.2425\n",
            "Epoch 11/200\n",
            "8/8 - 0s - 13ms/step - accuracy: 0.9115 - loss: 0.3283 - val_accuracy: 0.9655 - val_loss: 0.2130\n",
            "Epoch 12/200\n",
            "8/8 - 0s - 16ms/step - accuracy: 0.9381 - loss: 0.3352 - val_accuracy: 1.0000 - val_loss: 0.1840\n",
            "Epoch 13/200\n",
            "8/8 - 0s - 14ms/step - accuracy: 0.9558 - loss: 0.2483 - val_accuracy: 1.0000 - val_loss: 0.1605\n",
            "Epoch 14/200\n",
            "8/8 - 0s - 15ms/step - accuracy: 0.9646 - loss: 0.2323 - val_accuracy: 1.0000 - val_loss: 0.1416\n",
            "Epoch 15/200\n",
            "8/8 - 0s - 14ms/step - accuracy: 0.9735 - loss: 0.1963 - val_accuracy: 1.0000 - val_loss: 0.1260\n",
            "Epoch 16/200\n",
            "8/8 - 0s - 14ms/step - accuracy: 0.9558 - loss: 0.1953 - val_accuracy: 1.0000 - val_loss: 0.1114\n",
            "Epoch 17/200\n",
            "8/8 - 0s - 14ms/step - accuracy: 0.9735 - loss: 0.1700 - val_accuracy: 1.0000 - val_loss: 0.1016\n",
            "Epoch 18/200\n",
            "8/8 - 0s - 14ms/step - accuracy: 0.9646 - loss: 0.1833 - val_accuracy: 1.0000 - val_loss: 0.0961\n",
            "Epoch 19/200\n",
            "8/8 - 0s - 14ms/step - accuracy: 0.9558 - loss: 0.1817 - val_accuracy: 1.0000 - val_loss: 0.0875\n",
            "Epoch 20/200\n",
            "8/8 - 0s - 19ms/step - accuracy: 0.9735 - loss: 0.1588 - val_accuracy: 1.0000 - val_loss: 0.0782\n",
            "Epoch 21/200\n",
            "8/8 - 0s - 14ms/step - accuracy: 0.9646 - loss: 0.1833 - val_accuracy: 1.0000 - val_loss: 0.0705\n",
            "Epoch 22/200\n",
            "8/8 - 0s - 19ms/step - accuracy: 0.9735 - loss: 0.1578 - val_accuracy: 1.0000 - val_loss: 0.0644\n",
            "Epoch 23/200\n",
            "8/8 - 0s - 14ms/step - accuracy: 0.9735 - loss: 0.1266 - val_accuracy: 1.0000 - val_loss: 0.0568\n",
            "Epoch 24/200\n",
            "8/8 - 0s - 14ms/step - accuracy: 0.9735 - loss: 0.1194 - val_accuracy: 1.0000 - val_loss: 0.0512\n",
            "Epoch 25/200\n",
            "8/8 - 0s - 14ms/step - accuracy: 0.9646 - loss: 0.1171 - val_accuracy: 1.0000 - val_loss: 0.0473\n",
            "Epoch 26/200\n",
            "8/8 - 0s - 14ms/step - accuracy: 0.9823 - loss: 0.1058 - val_accuracy: 1.0000 - val_loss: 0.0437\n",
            "Epoch 27/200\n",
            "8/8 - 0s - 13ms/step - accuracy: 0.9823 - loss: 0.1005 - val_accuracy: 1.0000 - val_loss: 0.0402\n",
            "Epoch 28/200\n",
            "8/8 - 0s - 13ms/step - accuracy: 0.9558 - loss: 0.1274 - val_accuracy: 1.0000 - val_loss: 0.0389\n",
            "Epoch 29/200\n",
            "8/8 - 0s - 16ms/step - accuracy: 0.9912 - loss: 0.0846 - val_accuracy: 1.0000 - val_loss: 0.0380\n",
            "Epoch 30/200\n",
            "8/8 - 0s - 13ms/step - accuracy: 1.0000 - loss: 0.0524 - val_accuracy: 1.0000 - val_loss: 0.0357\n",
            "Epoch 31/200\n",
            "8/8 - 0s - 25ms/step - accuracy: 1.0000 - loss: 0.0635 - val_accuracy: 1.0000 - val_loss: 0.0337\n",
            "Epoch 32/200\n",
            "8/8 - 0s - 32ms/step - accuracy: 0.9735 - loss: 0.0862 - val_accuracy: 1.0000 - val_loss: 0.0313\n",
            "Epoch 33/200\n",
            "8/8 - 0s - 24ms/step - accuracy: 0.9912 - loss: 0.0672 - val_accuracy: 1.0000 - val_loss: 0.0293\n",
            "Epoch 34/200\n",
            "8/8 - 0s - 25ms/step - accuracy: 0.9912 - loss: 0.0779 - val_accuracy: 1.0000 - val_loss: 0.0275\n",
            "Epoch 35/200\n",
            "8/8 - 0s - 20ms/step - accuracy: 1.0000 - loss: 0.0561 - val_accuracy: 1.0000 - val_loss: 0.0261\n",
            "Epoch 36/200\n",
            "8/8 - 0s - 40ms/step - accuracy: 0.9735 - loss: 0.0737 - val_accuracy: 1.0000 - val_loss: 0.0242\n",
            "Epoch 37/200\n",
            "8/8 - 0s - 20ms/step - accuracy: 0.9823 - loss: 0.0773 - val_accuracy: 1.0000 - val_loss: 0.0216\n",
            "Epoch 38/200\n",
            "8/8 - 0s - 23ms/step - accuracy: 1.0000 - loss: 0.0653 - val_accuracy: 1.0000 - val_loss: 0.0205\n",
            "Epoch 39/200\n",
            "8/8 - 0s - 24ms/step - accuracy: 1.0000 - loss: 0.0499 - val_accuracy: 1.0000 - val_loss: 0.0200\n",
            "Epoch 40/200\n",
            "8/8 - 0s - 24ms/step - accuracy: 0.9823 - loss: 0.0707 - val_accuracy: 1.0000 - val_loss: 0.0190\n",
            "Epoch 41/200\n",
            "8/8 - 0s - 20ms/step - accuracy: 0.9912 - loss: 0.0583 - val_accuracy: 1.0000 - val_loss: 0.0187\n",
            "Epoch 42/200\n",
            "8/8 - 0s - 26ms/step - accuracy: 0.9735 - loss: 0.0646 - val_accuracy: 1.0000 - val_loss: 0.0171\n",
            "Epoch 43/200\n",
            "8/8 - 0s - 34ms/step - accuracy: 0.9912 - loss: 0.0362 - val_accuracy: 1.0000 - val_loss: 0.0153\n",
            "Epoch 44/200\n",
            "8/8 - 0s - 14ms/step - accuracy: 0.9912 - loss: 0.0433 - val_accuracy: 1.0000 - val_loss: 0.0142\n",
            "Epoch 45/200\n",
            "8/8 - 0s - 16ms/step - accuracy: 0.9735 - loss: 0.0632 - val_accuracy: 1.0000 - val_loss: 0.0138\n",
            "Epoch 46/200\n",
            "8/8 - 0s - 15ms/step - accuracy: 0.9823 - loss: 0.0630 - val_accuracy: 1.0000 - val_loss: 0.0134\n",
            "Epoch 47/200\n",
            "8/8 - 0s - 14ms/step - accuracy: 0.9735 - loss: 0.0497 - val_accuracy: 1.0000 - val_loss: 0.0132\n",
            "Epoch 48/200\n",
            "8/8 - 0s - 14ms/step - accuracy: 0.9912 - loss: 0.0424 - val_accuracy: 1.0000 - val_loss: 0.0129\n",
            "Epoch 49/200\n",
            "8/8 - 0s - 14ms/step - accuracy: 0.9912 - loss: 0.0380 - val_accuracy: 1.0000 - val_loss: 0.0126\n",
            "Epoch 50/200\n",
            "8/8 - 0s - 14ms/step - accuracy: 1.0000 - loss: 0.0465 - val_accuracy: 1.0000 - val_loss: 0.0116\n",
            "Epoch 51/200\n",
            "8/8 - 0s - 14ms/step - accuracy: 1.0000 - loss: 0.0308 - val_accuracy: 1.0000 - val_loss: 0.0106\n",
            "Epoch 52/200\n",
            "8/8 - 0s - 15ms/step - accuracy: 0.9823 - loss: 0.0505 - val_accuracy: 1.0000 - val_loss: 0.0099\n",
            "Epoch 53/200\n",
            "8/8 - 0s - 16ms/step - accuracy: 0.9823 - loss: 0.0431 - val_accuracy: 1.0000 - val_loss: 0.0093\n",
            "Epoch 54/200\n",
            "8/8 - 0s - 15ms/step - accuracy: 1.0000 - loss: 0.0245 - val_accuracy: 1.0000 - val_loss: 0.0090\n",
            "Epoch 55/200\n",
            "8/8 - 0s - 14ms/step - accuracy: 0.9823 - loss: 0.0352 - val_accuracy: 1.0000 - val_loss: 0.0087\n",
            "Epoch 56/200\n",
            "8/8 - 0s - 14ms/step - accuracy: 1.0000 - loss: 0.0229 - val_accuracy: 1.0000 - val_loss: 0.0084\n",
            "Epoch 57/200\n",
            "8/8 - 0s - 14ms/step - accuracy: 1.0000 - loss: 0.0221 - val_accuracy: 1.0000 - val_loss: 0.0081\n",
            "Epoch 58/200\n",
            "8/8 - 0s - 14ms/step - accuracy: 0.9912 - loss: 0.0395 - val_accuracy: 1.0000 - val_loss: 0.0078\n",
            "Epoch 59/200\n",
            "8/8 - 0s - 14ms/step - accuracy: 1.0000 - loss: 0.0307 - val_accuracy: 1.0000 - val_loss: 0.0075\n",
            "Epoch 60/200\n",
            "8/8 - 0s - 14ms/step - accuracy: 0.9912 - loss: 0.0524 - val_accuracy: 1.0000 - val_loss: 0.0071\n",
            "Epoch 61/200\n",
            "8/8 - 0s - 14ms/step - accuracy: 0.9823 - loss: 0.0449 - val_accuracy: 1.0000 - val_loss: 0.0070\n",
            "Epoch 62/200\n",
            "8/8 - 0s - 16ms/step - accuracy: 0.9823 - loss: 0.0538 - val_accuracy: 1.0000 - val_loss: 0.0066\n",
            "Epoch 63/200\n",
            "8/8 - 0s - 14ms/step - accuracy: 0.9735 - loss: 0.0510 - val_accuracy: 1.0000 - val_loss: 0.0060\n",
            "Epoch 64/200\n",
            "8/8 - 0s - 14ms/step - accuracy: 0.9912 - loss: 0.0335 - val_accuracy: 1.0000 - val_loss: 0.0056\n",
            "Epoch 65/200\n",
            "8/8 - 0s - 14ms/step - accuracy: 1.0000 - loss: 0.0218 - val_accuracy: 1.0000 - val_loss: 0.0054\n",
            "Epoch 66/200\n",
            "8/8 - 0s - 14ms/step - accuracy: 0.9912 - loss: 0.0318 - val_accuracy: 1.0000 - val_loss: 0.0052\n",
            "Epoch 67/200\n",
            "8/8 - 0s - 14ms/step - accuracy: 1.0000 - loss: 0.0241 - val_accuracy: 1.0000 - val_loss: 0.0050\n",
            "Epoch 68/200\n",
            "8/8 - 0s - 14ms/step - accuracy: 1.0000 - loss: 0.0214 - val_accuracy: 1.0000 - val_loss: 0.0049\n",
            "Epoch 69/200\n",
            "8/8 - 0s - 14ms/step - accuracy: 1.0000 - loss: 0.0271 - val_accuracy: 1.0000 - val_loss: 0.0047\n",
            "Epoch 70/200\n",
            "8/8 - 0s - 14ms/step - accuracy: 0.9912 - loss: 0.0273 - val_accuracy: 1.0000 - val_loss: 0.0044\n",
            "Epoch 71/200\n",
            "8/8 - 0s - 16ms/step - accuracy: 0.9912 - loss: 0.0169 - val_accuracy: 1.0000 - val_loss: 0.0043\n",
            "Epoch 72/200\n",
            "8/8 - 0s - 14ms/step - accuracy: 1.0000 - loss: 0.0154 - val_accuracy: 1.0000 - val_loss: 0.0042\n",
            "Epoch 73/200\n",
            "8/8 - 0s - 14ms/step - accuracy: 1.0000 - loss: 0.0233 - val_accuracy: 1.0000 - val_loss: 0.0042\n",
            "Epoch 74/200\n",
            "8/8 - 0s - 14ms/step - accuracy: 1.0000 - loss: 0.0318 - val_accuracy: 1.0000 - val_loss: 0.0042\n",
            "Epoch 75/200\n",
            "8/8 - 0s - 15ms/step - accuracy: 1.0000 - loss: 0.0106 - val_accuracy: 1.0000 - val_loss: 0.0042\n",
            "Epoch 76/200\n",
            "8/8 - 0s - 14ms/step - accuracy: 0.9735 - loss: 0.0433 - val_accuracy: 1.0000 - val_loss: 0.0044\n",
            "Epoch 77/200\n",
            "8/8 - 0s - 14ms/step - accuracy: 1.0000 - loss: 0.0111 - val_accuracy: 1.0000 - val_loss: 0.0044\n",
            "Epoch 78/200\n",
            "8/8 - 0s - 14ms/step - accuracy: 1.0000 - loss: 0.0165 - val_accuracy: 1.0000 - val_loss: 0.0042\n",
            "Epoch 79/200\n",
            "8/8 - 0s - 14ms/step - accuracy: 0.9912 - loss: 0.0362 - val_accuracy: 1.0000 - val_loss: 0.0039\n",
            "Epoch 80/200\n",
            "8/8 - 0s - 17ms/step - accuracy: 0.9912 - loss: 0.0115 - val_accuracy: 1.0000 - val_loss: 0.0035\n",
            "Epoch 81/200\n",
            "8/8 - 0s - 14ms/step - accuracy: 1.0000 - loss: 0.0131 - val_accuracy: 1.0000 - val_loss: 0.0031\n",
            "Epoch 82/200\n",
            "8/8 - 0s - 14ms/step - accuracy: 1.0000 - loss: 0.0084 - val_accuracy: 1.0000 - val_loss: 0.0029\n",
            "Epoch 83/200\n",
            "8/8 - 0s - 14ms/step - accuracy: 1.0000 - loss: 0.0161 - val_accuracy: 1.0000 - val_loss: 0.0028\n",
            "Epoch 84/200\n",
            "8/8 - 0s - 14ms/step - accuracy: 1.0000 - loss: 0.0112 - val_accuracy: 1.0000 - val_loss: 0.0026\n",
            "Epoch 85/200\n",
            "8/8 - 0s - 14ms/step - accuracy: 0.9912 - loss: 0.0169 - val_accuracy: 1.0000 - val_loss: 0.0025\n",
            "Epoch 86/200\n",
            "8/8 - 0s - 14ms/step - accuracy: 0.9912 - loss: 0.0282 - val_accuracy: 1.0000 - val_loss: 0.0025\n",
            "Epoch 87/200\n",
            "8/8 - 0s - 14ms/step - accuracy: 1.0000 - loss: 0.0124 - val_accuracy: 1.0000 - val_loss: 0.0025\n",
            "Epoch 88/200\n",
            "8/8 - 0s - 16ms/step - accuracy: 1.0000 - loss: 0.0090 - val_accuracy: 1.0000 - val_loss: 0.0024\n",
            "Epoch 89/200\n",
            "8/8 - 0s - 15ms/step - accuracy: 0.9912 - loss: 0.0291 - val_accuracy: 1.0000 - val_loss: 0.0024\n",
            "Epoch 90/200\n",
            "8/8 - 0s - 14ms/step - accuracy: 1.0000 - loss: 0.0132 - val_accuracy: 1.0000 - val_loss: 0.0023\n",
            "Epoch 91/200\n",
            "8/8 - 0s - 14ms/step - accuracy: 0.9912 - loss: 0.0225 - val_accuracy: 1.0000 - val_loss: 0.0022\n",
            "Epoch 92/200\n",
            "8/8 - 0s - 14ms/step - accuracy: 1.0000 - loss: 0.0072 - val_accuracy: 1.0000 - val_loss: 0.0021\n",
            "Epoch 93/200\n",
            "8/8 - 0s - 14ms/step - accuracy: 0.9912 - loss: 0.0133 - val_accuracy: 1.0000 - val_loss: 0.0020\n",
            "Epoch 94/200\n",
            "8/8 - 0s - 15ms/step - accuracy: 1.0000 - loss: 0.0093 - val_accuracy: 1.0000 - val_loss: 0.0020\n",
            "Epoch 95/200\n",
            "8/8 - 0s - 15ms/step - accuracy: 1.0000 - loss: 0.0073 - val_accuracy: 1.0000 - val_loss: 0.0019\n",
            "Epoch 96/200\n",
            "8/8 - 0s - 14ms/step - accuracy: 0.9912 - loss: 0.0169 - val_accuracy: 1.0000 - val_loss: 0.0020\n",
            "Epoch 97/200\n",
            "8/8 - 0s - 16ms/step - accuracy: 1.0000 - loss: 0.0159 - val_accuracy: 1.0000 - val_loss: 0.0020\n",
            "Epoch 98/200\n",
            "8/8 - 0s - 15ms/step - accuracy: 1.0000 - loss: 0.0123 - val_accuracy: 1.0000 - val_loss: 0.0020\n",
            "Epoch 99/200\n",
            "8/8 - 0s - 14ms/step - accuracy: 1.0000 - loss: 0.0148 - val_accuracy: 1.0000 - val_loss: 0.0019\n",
            "Epoch 100/200\n",
            "8/8 - 0s - 14ms/step - accuracy: 1.0000 - loss: 0.0064 - val_accuracy: 1.0000 - val_loss: 0.0019\n",
            "Epoch 101/200\n",
            "8/8 - 0s - 15ms/step - accuracy: 0.9823 - loss: 0.0530 - val_accuracy: 1.0000 - val_loss: 0.0017\n",
            "Epoch 102/200\n",
            "8/8 - 0s - 15ms/step - accuracy: 1.0000 - loss: 0.0084 - val_accuracy: 1.0000 - val_loss: 0.0015\n",
            "Epoch 103/200\n",
            "8/8 - 0s - 14ms/step - accuracy: 1.0000 - loss: 0.0101 - val_accuracy: 1.0000 - val_loss: 0.0015\n",
            "Epoch 104/200\n",
            "8/8 - 0s - 19ms/step - accuracy: 1.0000 - loss: 0.0158 - val_accuracy: 1.0000 - val_loss: 0.0014\n",
            "Epoch 105/200\n",
            "8/8 - 0s - 16ms/step - accuracy: 1.0000 - loss: 0.0055 - val_accuracy: 1.0000 - val_loss: 0.0014\n",
            "Epoch 106/200\n",
            "8/8 - 0s - 15ms/step - accuracy: 1.0000 - loss: 0.0116 - val_accuracy: 1.0000 - val_loss: 0.0013\n",
            "Epoch 107/200\n",
            "8/8 - 0s - 18ms/step - accuracy: 1.0000 - loss: 0.0105 - val_accuracy: 1.0000 - val_loss: 0.0012\n",
            "Epoch 108/200\n",
            "8/8 - 0s - 14ms/step - accuracy: 1.0000 - loss: 0.0060 - val_accuracy: 1.0000 - val_loss: 0.0012\n",
            "Epoch 109/200\n",
            "8/8 - 0s - 13ms/step - accuracy: 0.9912 - loss: 0.0246 - val_accuracy: 1.0000 - val_loss: 0.0012\n",
            "Epoch 110/200\n",
            "8/8 - 0s - 14ms/step - accuracy: 1.0000 - loss: 0.0071 - val_accuracy: 1.0000 - val_loss: 0.0012\n",
            "Epoch 111/200\n",
            "8/8 - 0s - 14ms/step - accuracy: 1.0000 - loss: 0.0102 - val_accuracy: 1.0000 - val_loss: 0.0011\n",
            "Epoch 112/200\n",
            "8/8 - 0s - 15ms/step - accuracy: 1.0000 - loss: 0.0104 - val_accuracy: 1.0000 - val_loss: 0.0011\n",
            "Epoch 113/200\n",
            "8/8 - 0s - 14ms/step - accuracy: 1.0000 - loss: 0.0055 - val_accuracy: 1.0000 - val_loss: 0.0010\n",
            "Epoch 114/200\n",
            "8/8 - 0s - 16ms/step - accuracy: 1.0000 - loss: 0.0044 - val_accuracy: 1.0000 - val_loss: 0.0010\n",
            "Epoch 115/200\n",
            "8/8 - 0s - 14ms/step - accuracy: 1.0000 - loss: 0.0061 - val_accuracy: 1.0000 - val_loss: 9.7386e-04\n",
            "Epoch 116/200\n",
            "8/8 - 0s - 14ms/step - accuracy: 0.9912 - loss: 0.0497 - val_accuracy: 1.0000 - val_loss: 9.3688e-04\n",
            "Epoch 117/200\n",
            "8/8 - 0s - 14ms/step - accuracy: 1.0000 - loss: 0.0081 - val_accuracy: 1.0000 - val_loss: 9.0533e-04\n",
            "Epoch 118/200\n",
            "8/8 - 0s - 15ms/step - accuracy: 1.0000 - loss: 0.0155 - val_accuracy: 1.0000 - val_loss: 8.5409e-04\n",
            "Epoch 119/200\n",
            "8/8 - 0s - 14ms/step - accuracy: 1.0000 - loss: 0.0049 - val_accuracy: 1.0000 - val_loss: 8.1554e-04\n",
            "Epoch 120/200\n",
            "8/8 - 0s - 14ms/step - accuracy: 1.0000 - loss: 0.0079 - val_accuracy: 1.0000 - val_loss: 7.8918e-04\n",
            "Epoch 121/200\n",
            "8/8 - 0s - 14ms/step - accuracy: 1.0000 - loss: 0.0123 - val_accuracy: 1.0000 - val_loss: 7.7827e-04\n",
            "Epoch 122/200\n",
            "8/8 - 0s - 15ms/step - accuracy: 0.9912 - loss: 0.0151 - val_accuracy: 1.0000 - val_loss: 7.3815e-04\n",
            "Epoch 123/200\n",
            "8/8 - 0s - 15ms/step - accuracy: 0.9912 - loss: 0.0311 - val_accuracy: 1.0000 - val_loss: 7.4388e-04\n",
            "Epoch 124/200\n",
            "8/8 - 0s - 13ms/step - accuracy: 1.0000 - loss: 0.0041 - val_accuracy: 1.0000 - val_loss: 7.4603e-04\n",
            "Epoch 125/200\n",
            "8/8 - 0s - 13ms/step - accuracy: 0.9912 - loss: 0.0204 - val_accuracy: 1.0000 - val_loss: 7.7233e-04\n",
            "Epoch 126/200\n",
            "8/8 - 0s - 16ms/step - accuracy: 1.0000 - loss: 0.0057 - val_accuracy: 1.0000 - val_loss: 7.8221e-04\n",
            "Epoch 127/200\n",
            "8/8 - 0s - 22ms/step - accuracy: 0.9912 - loss: 0.0264 - val_accuracy: 1.0000 - val_loss: 7.8751e-04\n",
            "Epoch 128/200\n",
            "8/8 - 0s - 24ms/step - accuracy: 1.0000 - loss: 0.0070 - val_accuracy: 1.0000 - val_loss: 7.7667e-04\n",
            "Epoch 129/200\n",
            "8/8 - 0s - 21ms/step - accuracy: 1.0000 - loss: 0.0051 - val_accuracy: 1.0000 - val_loss: 7.4876e-04\n",
            "Epoch 130/200\n",
            "8/8 - 0s - 28ms/step - accuracy: 1.0000 - loss: 0.0074 - val_accuracy: 1.0000 - val_loss: 7.1899e-04\n",
            "Epoch 131/200\n",
            "8/8 - 0s - 21ms/step - accuracy: 0.9912 - loss: 0.0200 - val_accuracy: 1.0000 - val_loss: 6.6297e-04\n",
            "Epoch 132/200\n",
            "8/8 - 0s - 21ms/step - accuracy: 1.0000 - loss: 0.0058 - val_accuracy: 1.0000 - val_loss: 6.3181e-04\n",
            "Epoch 133/200\n",
            "8/8 - 0s - 24ms/step - accuracy: 1.0000 - loss: 0.0073 - val_accuracy: 1.0000 - val_loss: 6.2038e-04\n",
            "Epoch 134/200\n",
            "8/8 - 0s - 20ms/step - accuracy: 1.0000 - loss: 0.0089 - val_accuracy: 1.0000 - val_loss: 5.9213e-04\n",
            "Epoch 135/200\n",
            "8/8 - 0s - 24ms/step - accuracy: 1.0000 - loss: 0.0078 - val_accuracy: 1.0000 - val_loss: 5.7024e-04\n",
            "Epoch 136/200\n",
            "8/8 - 0s - 35ms/step - accuracy: 1.0000 - loss: 0.0044 - val_accuracy: 1.0000 - val_loss: 5.8272e-04\n",
            "Epoch 137/200\n",
            "8/8 - 0s - 26ms/step - accuracy: 1.0000 - loss: 0.0039 - val_accuracy: 1.0000 - val_loss: 5.8700e-04\n",
            "Epoch 138/200\n",
            "8/8 - 0s - 25ms/step - accuracy: 1.0000 - loss: 0.0094 - val_accuracy: 1.0000 - val_loss: 5.5285e-04\n",
            "Epoch 139/200\n",
            "8/8 - 0s - 23ms/step - accuracy: 1.0000 - loss: 0.0070 - val_accuracy: 1.0000 - val_loss: 5.3548e-04\n",
            "Epoch 140/200\n",
            "8/8 - 0s - 26ms/step - accuracy: 0.9912 - loss: 0.0271 - val_accuracy: 1.0000 - val_loss: 5.0328e-04\n",
            "Epoch 141/200\n",
            "8/8 - 0s - 15ms/step - accuracy: 0.9912 - loss: 0.0142 - val_accuracy: 1.0000 - val_loss: 4.6659e-04\n",
            "Epoch 142/200\n",
            "8/8 - 0s - 14ms/step - accuracy: 1.0000 - loss: 0.0026 - val_accuracy: 1.0000 - val_loss: 4.4779e-04\n",
            "Epoch 143/200\n",
            "8/8 - 0s - 14ms/step - accuracy: 1.0000 - loss: 0.0076 - val_accuracy: 1.0000 - val_loss: 4.4001e-04\n",
            "Epoch 144/200\n",
            "8/8 - 0s - 14ms/step - accuracy: 1.0000 - loss: 0.0052 - val_accuracy: 1.0000 - val_loss: 4.4665e-04\n",
            "Epoch 145/200\n",
            "8/8 - 0s - 14ms/step - accuracy: 1.0000 - loss: 0.0056 - val_accuracy: 1.0000 - val_loss: 4.4742e-04\n",
            "Epoch 146/200\n",
            "8/8 - 0s - 14ms/step - accuracy: 1.0000 - loss: 0.0067 - val_accuracy: 1.0000 - val_loss: 4.3617e-04\n",
            "Epoch 147/200\n",
            "8/8 - 0s - 14ms/step - accuracy: 1.0000 - loss: 0.0117 - val_accuracy: 1.0000 - val_loss: 4.2673e-04\n",
            "Epoch 148/200\n",
            "8/8 - 0s - 14ms/step - accuracy: 1.0000 - loss: 0.0098 - val_accuracy: 1.0000 - val_loss: 4.0724e-04\n",
            "Epoch 149/200\n",
            "8/8 - 0s - 16ms/step - accuracy: 1.0000 - loss: 0.0026 - val_accuracy: 1.0000 - val_loss: 3.9059e-04\n",
            "Epoch 150/200\n",
            "8/8 - 0s - 15ms/step - accuracy: 1.0000 - loss: 0.0143 - val_accuracy: 1.0000 - val_loss: 3.8232e-04\n",
            "Epoch 151/200\n",
            "8/8 - 0s - 14ms/step - accuracy: 0.9912 - loss: 0.0241 - val_accuracy: 1.0000 - val_loss: 3.6983e-04\n",
            "Epoch 152/200\n",
            "8/8 - 0s - 14ms/step - accuracy: 1.0000 - loss: 0.0080 - val_accuracy: 1.0000 - val_loss: 3.4752e-04\n",
            "Epoch 153/200\n",
            "8/8 - 0s - 14ms/step - accuracy: 0.9912 - loss: 0.0125 - val_accuracy: 1.0000 - val_loss: 3.1948e-04\n",
            "Epoch 154/200\n",
            "8/8 - 0s - 14ms/step - accuracy: 1.0000 - loss: 0.0075 - val_accuracy: 1.0000 - val_loss: 3.0328e-04\n",
            "Epoch 155/200\n",
            "8/8 - 0s - 13ms/step - accuracy: 0.9912 - loss: 0.0099 - val_accuracy: 1.0000 - val_loss: 3.0431e-04\n",
            "Epoch 156/200\n",
            "8/8 - 0s - 14ms/step - accuracy: 1.0000 - loss: 0.0031 - val_accuracy: 1.0000 - val_loss: 3.0409e-04\n",
            "Epoch 157/200\n",
            "8/8 - 0s - 14ms/step - accuracy: 1.0000 - loss: 0.0087 - val_accuracy: 1.0000 - val_loss: 3.1725e-04\n",
            "Epoch 158/200\n",
            "8/8 - 0s - 15ms/step - accuracy: 1.0000 - loss: 0.0053 - val_accuracy: 1.0000 - val_loss: 3.2539e-04\n",
            "Epoch 159/200\n",
            "8/8 - 0s - 14ms/step - accuracy: 0.9912 - loss: 0.0387 - val_accuracy: 1.0000 - val_loss: 3.3838e-04\n",
            "Epoch 160/200\n",
            "8/8 - 0s - 13ms/step - accuracy: 1.0000 - loss: 0.0033 - val_accuracy: 1.0000 - val_loss: 3.6477e-04\n",
            "Epoch 161/200\n",
            "8/8 - 0s - 14ms/step - accuracy: 1.0000 - loss: 0.0017 - val_accuracy: 1.0000 - val_loss: 3.7847e-04\n",
            "Epoch 162/200\n",
            "8/8 - 0s - 14ms/step - accuracy: 1.0000 - loss: 0.0055 - val_accuracy: 1.0000 - val_loss: 3.9002e-04\n",
            "Epoch 163/200\n",
            "8/8 - 0s - 17ms/step - accuracy: 0.9912 - loss: 0.0127 - val_accuracy: 1.0000 - val_loss: 3.6688e-04\n",
            "Epoch 164/200\n",
            "8/8 - 0s - 14ms/step - accuracy: 0.9912 - loss: 0.0357 - val_accuracy: 1.0000 - val_loss: 3.1979e-04\n",
            "Epoch 165/200\n",
            "8/8 - 0s - 14ms/step - accuracy: 1.0000 - loss: 0.0024 - val_accuracy: 1.0000 - val_loss: 2.9937e-04\n",
            "Epoch 166/200\n",
            "8/8 - 0s - 19ms/step - accuracy: 1.0000 - loss: 0.0018 - val_accuracy: 1.0000 - val_loss: 2.9027e-04\n",
            "Epoch 167/200\n",
            "8/8 - 0s - 14ms/step - accuracy: 1.0000 - loss: 0.0046 - val_accuracy: 1.0000 - val_loss: 2.8331e-04\n",
            "Epoch 168/200\n",
            "8/8 - 0s - 14ms/step - accuracy: 1.0000 - loss: 0.0029 - val_accuracy: 1.0000 - val_loss: 2.7727e-04\n",
            "Epoch 169/200\n",
            "8/8 - 0s - 14ms/step - accuracy: 1.0000 - loss: 0.0049 - val_accuracy: 1.0000 - val_loss: 2.7038e-04\n",
            "Epoch 170/200\n",
            "8/8 - 0s - 14ms/step - accuracy: 1.0000 - loss: 0.0082 - val_accuracy: 1.0000 - val_loss: 2.6722e-04\n",
            "Epoch 171/200\n",
            "8/8 - 0s - 14ms/step - accuracy: 1.0000 - loss: 0.0028 - val_accuracy: 1.0000 - val_loss: 2.6166e-04\n",
            "Epoch 172/200\n",
            "8/8 - 0s - 14ms/step - accuracy: 1.0000 - loss: 0.0045 - val_accuracy: 1.0000 - val_loss: 2.5621e-04\n",
            "Epoch 173/200\n",
            "8/8 - 0s - 14ms/step - accuracy: 1.0000 - loss: 0.0058 - val_accuracy: 1.0000 - val_loss: 2.5467e-04\n",
            "Epoch 174/200\n",
            "8/8 - 0s - 13ms/step - accuracy: 1.0000 - loss: 0.0056 - val_accuracy: 1.0000 - val_loss: 2.4764e-04\n",
            "Epoch 175/200\n",
            "8/8 - 0s - 16ms/step - accuracy: 1.0000 - loss: 0.0017 - val_accuracy: 1.0000 - val_loss: 2.4086e-04\n",
            "Epoch 176/200\n",
            "8/8 - 0s - 14ms/step - accuracy: 1.0000 - loss: 0.0049 - val_accuracy: 1.0000 - val_loss: 2.3485e-04\n",
            "Epoch 177/200\n",
            "8/8 - 0s - 14ms/step - accuracy: 0.9912 - loss: 0.0224 - val_accuracy: 1.0000 - val_loss: 2.2562e-04\n",
            "Epoch 178/200\n",
            "8/8 - 0s - 14ms/step - accuracy: 1.0000 - loss: 0.0013 - val_accuracy: 1.0000 - val_loss: 2.2152e-04\n",
            "Epoch 179/200\n",
            "8/8 - 0s - 14ms/step - accuracy: 1.0000 - loss: 0.0017 - val_accuracy: 1.0000 - val_loss: 2.1837e-04\n",
            "Epoch 180/200\n",
            "8/8 - 0s - 14ms/step - accuracy: 1.0000 - loss: 0.0038 - val_accuracy: 1.0000 - val_loss: 2.1256e-04\n",
            "Epoch 181/200\n",
            "8/8 - 0s - 14ms/step - accuracy: 1.0000 - loss: 0.0069 - val_accuracy: 1.0000 - val_loss: 2.0530e-04\n",
            "Epoch 182/200\n",
            "8/8 - 0s - 14ms/step - accuracy: 1.0000 - loss: 0.0025 - val_accuracy: 1.0000 - val_loss: 1.9947e-04\n",
            "Epoch 183/200\n",
            "8/8 - 0s - 13ms/step - accuracy: 1.0000 - loss: 0.0025 - val_accuracy: 1.0000 - val_loss: 1.9328e-04\n",
            "Epoch 184/200\n",
            "8/8 - 0s - 17ms/step - accuracy: 1.0000 - loss: 0.0020 - val_accuracy: 1.0000 - val_loss: 1.8860e-04\n",
            "Epoch 185/200\n",
            "8/8 - 0s - 14ms/step - accuracy: 1.0000 - loss: 0.0027 - val_accuracy: 1.0000 - val_loss: 1.8549e-04\n",
            "Epoch 186/200\n",
            "8/8 - 0s - 14ms/step - accuracy: 1.0000 - loss: 0.0065 - val_accuracy: 1.0000 - val_loss: 1.8077e-04\n",
            "Epoch 187/200\n",
            "8/8 - 0s - 14ms/step - accuracy: 1.0000 - loss: 0.0049 - val_accuracy: 1.0000 - val_loss: 1.7124e-04\n",
            "Epoch 188/200\n",
            "8/8 - 0s - 14ms/step - accuracy: 1.0000 - loss: 0.0027 - val_accuracy: 1.0000 - val_loss: 1.6559e-04\n",
            "Epoch 189/200\n",
            "8/8 - 0s - 14ms/step - accuracy: 1.0000 - loss: 0.0012 - val_accuracy: 1.0000 - val_loss: 1.6260e-04\n",
            "Epoch 190/200\n",
            "8/8 - 0s - 14ms/step - accuracy: 1.0000 - loss: 0.0062 - val_accuracy: 1.0000 - val_loss: 1.6158e-04\n",
            "Epoch 191/200\n",
            "8/8 - 0s - 14ms/step - accuracy: 1.0000 - loss: 0.0063 - val_accuracy: 1.0000 - val_loss: 1.6048e-04\n",
            "Epoch 192/200\n",
            "8/8 - 0s - 14ms/step - accuracy: 1.0000 - loss: 0.0014 - val_accuracy: 1.0000 - val_loss: 1.5879e-04\n",
            "Epoch 193/200\n",
            "8/8 - 0s - 16ms/step - accuracy: 1.0000 - loss: 0.0017 - val_accuracy: 1.0000 - val_loss: 1.5698e-04\n",
            "Epoch 194/200\n",
            "8/8 - 0s - 14ms/step - accuracy: 1.0000 - loss: 4.9328e-04 - val_accuracy: 1.0000 - val_loss: 1.5578e-04\n",
            "Epoch 195/200\n",
            "8/8 - 0s - 14ms/step - accuracy: 1.0000 - loss: 0.0022 - val_accuracy: 1.0000 - val_loss: 1.5446e-04\n",
            "Epoch 196/200\n",
            "8/8 - 0s - 14ms/step - accuracy: 1.0000 - loss: 0.0042 - val_accuracy: 1.0000 - val_loss: 1.5470e-04\n",
            "Epoch 197/200\n",
            "8/8 - 0s - 14ms/step - accuracy: 1.0000 - loss: 0.0023 - val_accuracy: 1.0000 - val_loss: 1.5231e-04\n",
            "Epoch 198/200\n",
            "8/8 - 0s - 13ms/step - accuracy: 1.0000 - loss: 0.0041 - val_accuracy: 1.0000 - val_loss: 1.4645e-04\n",
            "Epoch 199/200\n",
            "8/8 - 0s - 13ms/step - accuracy: 1.0000 - loss: 8.2501e-04 - val_accuracy: 1.0000 - val_loss: 1.4266e-04\n",
            "Epoch 200/200\n",
            "8/8 - 0s - 14ms/step - accuracy: 1.0000 - loss: 0.0030 - val_accuracy: 1.0000 - val_loss: 1.4222e-04\n",
            "Restoring model weights from the end of the best epoch: 200.\n"
          ]
        }
      ]
    },
    {
      "cell_type": "code",
      "source": [
        "# Avaliação no teste\n",
        "loss, acc = model.evaluate(X_test_scaled, y_test_cat, verbose=0)\n",
        "print(\"\\n=== Rede Neural (Keras) ===\")\n",
        "print(f\"Acurácia no teste: {acc:.4f}\")"
      ],
      "metadata": {
        "colab": {
          "base_uri": "https://localhost:8080/"
        },
        "id": "Fq_jObglR3M2",
        "outputId": "bde4c1ae-b846-4dd4-cd5d-5851cfc6d1f0"
      },
      "execution_count": null,
      "outputs": [
        {
          "output_type": "stream",
          "name": "stdout",
          "text": [
            "\n",
            "=== Rede Neural (Keras) ===\n",
            "Acurácia no teste: 0.9444\n"
          ]
        }
      ]
    },
    {
      "cell_type": "code",
      "source": [
        "# Previsões da rede\n",
        "y_pred_keras = np.argmax(model.predict(X_test_scaled), axis=1)\n",
        "print(\"\\nRelatório de classificação (Rede Neural):\")\n",
        "print(classification_report(y_test, y_pred_keras))"
      ],
      "metadata": {
        "colab": {
          "base_uri": "https://localhost:8080/"
        },
        "id": "653t3lMDR6AQ",
        "outputId": "6da5d3b8-1e75-4605-e099-617b201891c3"
      },
      "execution_count": null,
      "outputs": [
        {
          "output_type": "stream",
          "name": "stdout",
          "text": [
            "\u001b[1m2/2\u001b[0m \u001b[32m━━━━━━━━━━━━━━━━━━━━\u001b[0m\u001b[37m\u001b[0m \u001b[1m0s\u001b[0m 53ms/step\n",
            "\n",
            "Relatório de classificação (Rede Neural):\n",
            "              precision    recall  f1-score   support\n",
            "\n",
            "           0       0.92      1.00      0.96        12\n",
            "           1       0.93      0.93      0.93        14\n",
            "           2       1.00      0.90      0.95        10\n",
            "\n",
            "    accuracy                           0.94        36\n",
            "   macro avg       0.95      0.94      0.95        36\n",
            "weighted avg       0.95      0.94      0.94        36\n",
            "\n"
          ]
        }
      ]
    },
    {
      "cell_type": "code",
      "source": [
        "# Modelo comparativo\n",
        "\n",
        "# Random Forest\n",
        "rf = RandomForestClassifier(n_estimators=100, random_state=42)\n",
        "rf.fit(X_train_scaled, y_train)\n",
        "y_pred_rf = rf.predict(X_test_scaled)\n",
        "acc_rf = accuracy_score(y_test, y_pred_rf)\n",
        "\n",
        "print(\"\\n=== Random Forest ===\")\n",
        "print(f\"Acurácia no teste: {acc_rf:.4f}\")\n",
        "print(classification_report(y_test, y_pred_rf))"
      ],
      "metadata": {
        "colab": {
          "base_uri": "https://localhost:8080/"
        },
        "id": "Dqbx1-msR8d3",
        "outputId": "4dd8a2f9-e599-40dd-beac-5299492fcd10"
      },
      "execution_count": null,
      "outputs": [
        {
          "output_type": "stream",
          "name": "stdout",
          "text": [
            "\n",
            "=== Random Forest ===\n",
            "Acurácia no teste: 1.0000\n",
            "              precision    recall  f1-score   support\n",
            "\n",
            "           0       1.00      1.00      1.00        12\n",
            "           1       1.00      1.00      1.00        14\n",
            "           2       1.00      1.00      1.00        10\n",
            "\n",
            "    accuracy                           1.00        36\n",
            "   macro avg       1.00      1.00      1.00        36\n",
            "weighted avg       1.00      1.00      1.00        36\n",
            "\n"
          ]
        }
      ]
    },
    {
      "cell_type": "code",
      "source": [
        "# Logistic Regression\n",
        "lr = LogisticRegression(max_iter=1000, solver='lbfgs')  # multinomial já é default\n",
        "lr.fit(X_train_scaled, y_train)\n",
        "y_pred_lr = lr.predict(X_test_scaled)\n",
        "acc_lr = accuracy_score(y_test, y_pred_lr)\n",
        "\n",
        "print(\"\\n=== Logistic Regression ===\")\n",
        "print(f\"Acurácia no teste: {acc_lr:.4f}\")\n",
        "print(classification_report(y_test, y_pred_lr))"
      ],
      "metadata": {
        "colab": {
          "base_uri": "https://localhost:8080/"
        },
        "id": "khbwoX2LSFbw",
        "outputId": "86274b55-385d-45ef-e1b2-f461ea1f2dd0"
      },
      "execution_count": null,
      "outputs": [
        {
          "output_type": "stream",
          "name": "stdout",
          "text": [
            "\n",
            "=== Logistic Regression ===\n",
            "Acurácia no teste: 0.9722\n",
            "              precision    recall  f1-score   support\n",
            "\n",
            "           0       1.00      1.00      1.00        12\n",
            "           1       0.93      1.00      0.97        14\n",
            "           2       1.00      0.90      0.95        10\n",
            "\n",
            "    accuracy                           0.97        36\n",
            "   macro avg       0.98      0.97      0.97        36\n",
            "weighted avg       0.97      0.97      0.97        36\n",
            "\n"
          ]
        }
      ]
    },
    {
      "cell_type": "code",
      "source": [
        "# Visualizando historico de treino da rede\n",
        "\n",
        "plt.figure(figsize=(12,5))\n",
        "\n",
        "# Curva de perda\n",
        "plt.subplot(1,2,1)\n",
        "plt.plot(history.history['loss'], label='Treino')\n",
        "plt.plot(history.history['val_loss'], label='Validação')\n",
        "plt.title(\"Função de perda (Loss) - Rede Neural\")\n",
        "plt.xlabel(\"Épocas\")\n",
        "plt.ylabel(\"Loss\")\n",
        "plt.legend()\n",
        "\n",
        "# Curva de acurácia\n",
        "plt.subplot(1,2,2)\n",
        "plt.plot(history.history['accuracy'], label='Treino')\n",
        "plt.plot(history.history['val_accuracy'], label='Validação')\n",
        "plt.title(\"Acurácia - Rede Neural\")\n",
        "plt.xlabel(\"Épocas\")\n",
        "plt.ylabel(\"Acurácia\")\n",
        "plt.legend()\n",
        "\n",
        "plt.tight_layout()\n",
        "plt.show()\n"
      ],
      "metadata": {
        "colab": {
          "base_uri": "https://localhost:8080/",
          "height": 507
        },
        "id": "AonohVUhSImK",
        "outputId": "1c0ba884-0d6d-4488-bf1b-e54c3503ed11"
      },
      "execution_count": null,
      "outputs": [
        {
          "output_type": "display_data",
          "data": {
            "text/plain": [
              "<Figure size 1200x500 with 2 Axes>"
            ],
            "image/png": "[encoded data removed]"
          },
          "metadata": {}
        }
      ]
    },
    {
      "cell_type": "markdown",
      "source": [
        "###**Conclusão**\n",
        "\n",
        "Foram realizados três testes com Rede Neural (Keras), Random Forest e Regressão Logística — um a mais do que o pedido no exercício. Concluímos que o melhor modelo de classificação para o dataset Wine foi o Random Forest, que atingiu 100% de acurácia no conjunto de teste, classificando corretamente todas as amostras. Isso mostra que o modelo conseguiu separar perfeitamente as classes com base nos atributos químicos, superando a Rede Neural (94,4%) e a Regressão Logística (97,2%)."
      ],
      "metadata": {
        "id": "bZwCil83URZK"
      }
    },
    {
      "cell_type": "markdown",
      "source": [
        "### **Exercício 2**"
      ],
      "metadata": {
        "id": "rY9ZROAUNCyl"
      }
    },
    {
      "cell_type": "markdown",
      "source": [
        "**Dataset de pesquisa**: California Housing Dataset"
      ],
      "metadata": {
        "id": "KvY53Z0aNrdA"
      }
    },
    {
      "cell_type": "code",
      "source": [
        "# Importar bibliotecas necessárias\n",
        "import numpy as np\n",
        "import pandas as pd\n",
        "import matplotlib.pyplot as plt\n",
        "import seaborn as sns\n",
        "from sklearn.datasets import fetch_california_housing\n",
        "from sklearn.model_selection import train_test_split\n",
        "from sklearn.preprocessing import StandardScaler\n",
        "from sklearn.linear_model import LinearRegression\n",
        "from sklearn.ensemble import RandomForestRegressor\n",
        "from sklearn.metrics import mean_squared_error, mean_absolute_error, r2_score\n",
        "import tensorflow as tf\n",
        "from tensorflow import keras\n",
        "from tensorflow.keras import layers, models\n"
      ],
      "metadata": {
        "id": "veLYXUAlNLVd"
      },
      "execution_count": 1,
      "outputs": []
    },
    {
      "cell_type": "code",
      "source": [
        "# Configurar seed para reprodutibilidade\n",
        "np.random.seed(42)\n",
        "tf.random.set_seed(42)"
      ],
      "metadata": {
        "id": "Z6MKjb_oNyA7"
      },
      "execution_count": 2,
      "outputs": []
    },
    {
      "cell_type": "code",
      "source": [
        "# 1. CARREGAR E EXPLORAR O DATASET\n",
        "california = fetch_california_housing()\n",
        "X = california.data\n",
        "y = california.target\n",
        "\n",
        "print(f\"\\nShape dos dados: {X.shape}\")\n",
        "print(f\"Shape do target: {y.shape}\")\n",
        "print(f\"\\nNomes das features: {california.feature_names}\")\n",
        "print(f\"\\nDescrição do target: Valor médio das casas em centenas de milhares de dólares\")"
      ],
      "metadata": {
        "id": "YuGfRc7nN3Z9",
        "colab": {
          "base_uri": "https://localhost:8080/"
        },
        "outputId": "ba9f7b43-6bdc-46b7-a406-052194b47553"
      },
      "execution_count": 3,
      "outputs": [
        {
          "output_type": "stream",
          "name": "stdout",
          "text": [
            "\n",
            "Shape dos dados: (20640, 8)\n",
            "Shape do target: (20640,)\n",
            "\n",
            "Nomes das features: ['MedInc', 'HouseAge', 'AveRooms', 'AveBedrms', 'Population', 'AveOccup', 'Latitude', 'Longitude']\n",
            "\n",
            "Descrição do target: Valor médio das casas em centenas de milhares de dólares\n"
          ]
        }
      ]
    },
    {
      "cell_type": "code",
      "source": [
        "# Estatísticas básicas\n",
        "print(f\"\\nEstatísticas do target (y):\")\n",
        "print(f\"  Média: ${y.mean():.2f} (x100k)\")\n",
        "print(f\"  Mediana: ${np.median(y):.2f} (x100k)\")\n",
        "print(f\"  Min: ${y.min():.2f} (x100k)\")\n",
        "print(f\"  Max: ${y.max():.2f} (x100k)\")"
      ],
      "metadata": {
        "id": "C2IWvKGSN5wx",
        "colab": {
          "base_uri": "https://localhost:8080/"
        },
        "outputId": "e8715b95-96d4-4555-e585-c6a39ee258d8"
      },
      "execution_count": 4,
      "outputs": [
        {
          "output_type": "stream",
          "name": "stdout",
          "text": [
            "\n",
            "Estatísticas do target (y):\n",
            "  Média: $2.07 (x100k)\n",
            "  Mediana: $1.80 (x100k)\n",
            "  Min: $0.15 (x100k)\n",
            "  Max: $5.00 (x100k)\n"
          ]
        }
      ]
    },
    {
      "cell_type": "code",
      "source": [
        "# 2. DIVIDIR OS DADOS\n",
        "X_train, X_test, y_train, y_test = train_test_split(\n",
        "    X, y, test_size=0.2, random_state=42\n",
        ")\n",
        "\n",
        "print(f\"  Treino: {X_train.shape[0]} amostras\")\n",
        "print(f\"  Teste: {X_test.shape[0]} amostras\")"
      ],
      "metadata": {
        "id": "qsN3MnK2N8nF",
        "colab": {
          "base_uri": "https://localhost:8080/"
        },
        "outputId": "fc9c8aff-edc0-49c0-986f-bf50f997737d"
      },
      "execution_count": 5,
      "outputs": [
        {
          "output_type": "stream",
          "name": "stdout",
          "text": [
            "  Treino: 16512 amostras\n",
            "  Teste: 4128 amostras\n"
          ]
        }
      ]
    },
    {
      "cell_type": "code",
      "source": [
        "# 3. NORMALIZAR OS DADOS\n",
        "scaler = StandardScaler()\n",
        "X_train_scaled = scaler.fit_transform(X_train)\n",
        "X_test_scaled = scaler.transform(X_test)"
      ],
      "metadata": {
        "id": "n3_j-e6sN-h4"
      },
      "execution_count": 6,
      "outputs": []
    },
    {
      "cell_type": "code",
      "source": [
        "# CRIAR E TREINAR A REDE NEURAL (KERAS)\n",
        "model = models.Sequential([\n",
        "    layers.Input(shape=(X_train.shape[1],)),\n",
        "    layers.Dense(64, activation='relu', name='hidden_1'),\n",
        "    layers.Dense(32, activation='relu', name='hidden_2'),\n",
        "    layers.Dense(16, activation='relu', name='hidden_3'),\n",
        "    layers.Dense(1, activation='linear', name='output')\n",
        "])"
      ],
      "metadata": {
        "id": "Mz3H4CvRODDw"
      },
      "execution_count": 7,
      "outputs": []
    },
    {
      "cell_type": "code",
      "source": [
        "# Compilar o modelo\n",
        "model.compile(\n",
        "    optimizer='adam',\n",
        "    loss='mse',\n",
        "    metrics=['mae']\n",
        ")\n",
        "\n",
        "print(\"\\nArquitetura da Rede Neural:\")\n",
        "model.summary()"
      ],
      "metadata": {
        "id": "NgeQ3cUpOF5H",
        "colab": {
          "base_uri": "https://localhost:8080/",
          "height": 307
        },
        "outputId": "c0605bc4-7b24-455c-a4f2-a726cf2d41c0"
      },
      "execution_count": 8,
      "outputs": [
        {
          "output_type": "stream",
          "name": "stdout",
          "text": [
            "\n",
            "Arquitetura da Rede Neural:\n"
          ]
        },
        {
          "output_type": "display_data",
          "data": {
            "text/plain": [
              "\u001b[1mModel: \"sequential\"\u001b[0m\n"
            ],
            "text/html": [
              "<pre style=\"white-space:pre;overflow-x:auto;line-height:normal;font-family:Menlo,'DejaVu Sans Mono',consolas,'Courier New',monospace\"><span style=\"font-weight: bold\">Model: \"sequential\"</span>\n",
              "</pre>\n"
            ]
          },
          "metadata": {}
        },
        {
          "output_type": "display_data",
          "data": {
            "text/plain": [
              "┏━━━━━━━━━━━━━━━━━━━━━━━━━━━━━━━━━┳━━━━━━━━━━━━━━━━━━━━━━━━┳━━━━━━━━━━━━━━━┓\n",
              "┃\u001b[1m \u001b[0m\u001b[1mLayer (type)                   \u001b[0m\u001b[1m \u001b[0m┃\u001b[1m \u001b[0m\u001b[1mOutput Shape          \u001b[0m\u001b[1m \u001b[0m┃\u001b[1m \u001b[0m\u001b[1m      Param #\u001b[0m\u001b[1m \u001b[0m┃\n",
              "┡━━━━━━━━━━━━━━━━━━━━━━━━━━━━━━━━━╇━━━━━━━━━━━━━━━━━━━━━━━━╇━━━━━━━━━━━━━━━┩\n",
              "│ hidden_1 (\u001b[38;5;33mDense\u001b[0m)                │ (\u001b[38;5;45mNone\u001b[0m, \u001b[38;5;34m64\u001b[0m)             │           \u001b[38;5;34m576\u001b[0m │\n",
              "├─────────────────────────────────┼────────────────────────┼───────────────┤\n",
              "│ hidden_2 (\u001b[38;5;33mDense\u001b[0m)                │ (\u001b[38;5;45mNone\u001b[0m, \u001b[38;5;34m32\u001b[0m)             │         \u001b[38;5;34m2,080\u001b[0m │\n",
              "├─────────────────────────────────┼────────────────────────┼───────────────┤\n",
              "│ hidden_3 (\u001b[38;5;33mDense\u001b[0m)                │ (\u001b[38;5;45mNone\u001b[0m, \u001b[38;5;34m16\u001b[0m)             │           \u001b[38;5;34m528\u001b[0m │\n",
              "├─────────────────────────────────┼────────────────────────┼───────────────┤\n",
              "│ output (\u001b[38;5;33mDense\u001b[0m)                  │ (\u001b[38;5;45mNone\u001b[0m, \u001b[38;5;34m1\u001b[0m)              │            \u001b[38;5;34m17\u001b[0m │\n",
              "└─────────────────────────────────┴────────────────────────┴───────────────┘\n"
            ],
            "text/html": [
              "<pre style=\"white-space:pre;overflow-x:auto;line-height:normal;font-family:Menlo,'DejaVu Sans Mono',consolas,'Courier New',monospace\">┏━━━━━━━━━━━━━━━━━━━━━━━━━━━━━━━━━┳━━━━━━━━━━━━━━━━━━━━━━━━┳━━━━━━━━━━━━━━━┓\n",
              "┃<span style=\"font-weight: bold\"> Layer (type)                    </span>┃<span style=\"font-weight: bold\"> Output Shape           </span>┃<span style=\"font-weight: bold\">       Param # </span>┃\n",
              "┡━━━━━━━━━━━━━━━━━━━━━━━━━━━━━━━━━╇━━━━━━━━━━━━━━━━━━━━━━━━╇━━━━━━━━━━━━━━━┩\n",
              "│ hidden_1 (<span style=\"color: #0087ff; text-decoration-color: #0087ff\">Dense</span>)                │ (<span style=\"color: #00d7ff; text-decoration-color: #00d7ff\">None</span>, <span style=\"color: #00af00; text-decoration-color: #00af00\">64</span>)             │           <span style=\"color: #00af00; text-decoration-color: #00af00\">576</span> │\n",
              "├─────────────────────────────────┼────────────────────────┼───────────────┤\n",
              "│ hidden_2 (<span style=\"color: #0087ff; text-decoration-color: #0087ff\">Dense</span>)                │ (<span style=\"color: #00d7ff; text-decoration-color: #00d7ff\">None</span>, <span style=\"color: #00af00; text-decoration-color: #00af00\">32</span>)             │         <span style=\"color: #00af00; text-decoration-color: #00af00\">2,080</span> │\n",
              "├─────────────────────────────────┼────────────────────────┼───────────────┤\n",
              "│ hidden_3 (<span style=\"color: #0087ff; text-decoration-color: #0087ff\">Dense</span>)                │ (<span style=\"color: #00d7ff; text-decoration-color: #00d7ff\">None</span>, <span style=\"color: #00af00; text-decoration-color: #00af00\">16</span>)             │           <span style=\"color: #00af00; text-decoration-color: #00af00\">528</span> │\n",
              "├─────────────────────────────────┼────────────────────────┼───────────────┤\n",
              "│ output (<span style=\"color: #0087ff; text-decoration-color: #0087ff\">Dense</span>)                  │ (<span style=\"color: #00d7ff; text-decoration-color: #00d7ff\">None</span>, <span style=\"color: #00af00; text-decoration-color: #00af00\">1</span>)              │            <span style=\"color: #00af00; text-decoration-color: #00af00\">17</span> │\n",
              "└─────────────────────────────────┴────────────────────────┴───────────────┘\n",
              "</pre>\n"
            ]
          },
          "metadata": {}
        },
        {
          "output_type": "display_data",
          "data": {
            "text/plain": [
              "\u001b[1m Total params: \u001b[0m\u001b[38;5;34m3,201\u001b[0m (12.50 KB)\n"
            ],
            "text/html": [
              "<pre style=\"white-space:pre;overflow-x:auto;line-height:normal;font-family:Menlo,'DejaVu Sans Mono',consolas,'Courier New',monospace\"><span style=\"font-weight: bold\"> Total params: </span><span style=\"color: #00af00; text-decoration-color: #00af00\">3,201</span> (12.50 KB)\n",
              "</pre>\n"
            ]
          },
          "metadata": {}
        },
        {
          "output_type": "display_data",
          "data": {
            "text/plain": [
              "\u001b[1m Trainable params: \u001b[0m\u001b[38;5;34m3,201\u001b[0m (12.50 KB)\n"
            ],
            "text/html": [
              "<pre style=\"white-space:pre;overflow-x:auto;line-height:normal;font-family:Menlo,'DejaVu Sans Mono',consolas,'Courier New',monospace\"><span style=\"font-weight: bold\"> Trainable params: </span><span style=\"color: #00af00; text-decoration-color: #00af00\">3,201</span> (12.50 KB)\n",
              "</pre>\n"
            ]
          },
          "metadata": {}
        },
        {
          "output_type": "display_data",
          "data": {
            "text/plain": [
              "\u001b[1m Non-trainable params: \u001b[0m\u001b[38;5;34m0\u001b[0m (0.00 B)\n"
            ],
            "text/html": [
              "<pre style=\"white-space:pre;overflow-x:auto;line-height:normal;font-family:Menlo,'DejaVu Sans Mono',consolas,'Courier New',monospace\"><span style=\"font-weight: bold\"> Non-trainable params: </span><span style=\"color: #00af00; text-decoration-color: #00af00\">0</span> (0.00 B)\n",
              "</pre>\n"
            ]
          },
          "metadata": {}
        }
      ]
    },
    {
      "cell_type": "code",
      "source": [
        "# Treinar o modelo\n",
        "history = model.fit(\n",
        "    X_train_scaled, y_train,\n",
        "    epochs=100,\n",
        "    batch_size=32,\n",
        "    validation_split=0.2,\n",
        "    verbose=0\n",
        ")"
      ],
      "metadata": {
        "id": "1_j16y0aOJMW"
      },
      "execution_count": 9,
      "outputs": []
    },
    {
      "cell_type": "code",
      "source": [
        "# Fazer previsões\n",
        "y_pred_nn = model.predict(X_test_scaled, verbose=0).flatten()"
      ],
      "metadata": {
        "id": "X2T-9E7ZOOR2"
      },
      "execution_count": 12,
      "outputs": []
    },
    {
      "cell_type": "code",
      "source": [
        "# Calcular métricas\n",
        "rmse_nn = np.sqrt(mean_squared_error(y_test, y_pred_nn))\n",
        "mae_nn = mean_absolute_error(y_test, y_pred_nn)\n",
        "r2_nn = r2_score(y_test, y_pred_nn)\n",
        "\n",
        "print(f\"\\nMétricas da Rede Neural:\")\n",
        "print(f\"  RMSE: {rmse_nn:.4f}\")\n",
        "print(f\"  MAE:  {mae_nn:.4f}\")\n",
        "print(f\"  R²:   {r2_nn:.4f}\")\n"
      ],
      "metadata": {
        "id": "0OM-JGUUOQg_",
        "colab": {
          "base_uri": "https://localhost:8080/"
        },
        "outputId": "3b488d6e-fcb1-4b3b-8e25-c2473e665421"
      },
      "execution_count": 13,
      "outputs": [
        {
          "output_type": "stream",
          "name": "stdout",
          "text": [
            "\n",
            "Métricas da Rede Neural:\n",
            "  RMSE: 0.5304\n",
            "  MAE:  0.3575\n",
            "  R²:   0.7853\n"
          ]
        }
      ]
    },
    {
      "cell_type": "code",
      "source": [
        "# 5. MODELO LINEAR REGRESSION (SCIKIT-LEARN)\n",
        "print(\"LINEAR REGRESSION (SCIKIT-LEARN)\")\n",
        "\n",
        "lr_model = LinearRegression()\n",
        "lr_model.fit(X_train_scaled, y_train)\n",
        "y_pred_lr = lr_model.predict(X_test_scaled)\n",
        "\n",
        "rmse_lr = np.sqrt(mean_squared_error(y_test, y_pred_lr))\n",
        "mae_lr = mean_absolute_error(y_test, y_pred_lr)\n",
        "r2_lr = r2_score(y_test, y_pred_lr)\n",
        "\n",
        "print(f\"\\nMétricas do Linear Regression:\")\n",
        "print(f\"  RMSE: {rmse_lr:.4f}\")\n",
        "print(f\"  MAE:  {mae_lr:.4f}\")\n",
        "print(f\"  R²:   {r2_lr:.4f}\")"
      ],
      "metadata": {
        "id": "TriRRi3JOZFf",
        "colab": {
          "base_uri": "https://localhost:8080/"
        },
        "outputId": "aa755aa4-86a7-4c4e-d67f-813a5d718118"
      },
      "execution_count": 14,
      "outputs": [
        {
          "output_type": "stream",
          "name": "stdout",
          "text": [
            "\n",
            "======================================================================\n",
            "5. LINEAR REGRESSION (SCIKIT-LEARN)\n",
            "======================================================================\n",
            "\n",
            "Métricas do Linear Regression:\n",
            "  RMSE: 0.7456\n",
            "  MAE:  0.5332\n",
            "  R²:   0.5758\n"
          ]
        }
      ]
    },
    {
      "cell_type": "code",
      "source": [
        "# 6. MODELO RANDOM FOREST REGRESSOR (SCIKIT-LEARN)\n",
        "print(\"RANDOM FOREST REGRESSOR (SCIKIT-LEARN)\")\n",
        "rf_model = RandomForestRegressor(n_estimators=100, random_state=42, n_jobs=-1)\n",
        "print(\"\\nTreinando Random Forest...\")\n",
        "rf_model.fit(X_train_scaled, y_train)\n",
        "y_pred_rf = rf_model.predict(X_test_scaled)\n",
        "\n",
        "rmse_rf = np.sqrt(mean_squared_error(y_test, y_pred_rf))\n",
        "mae_rf = mean_absolute_error(y_test, y_pred_rf)\n",
        "r2_rf = r2_score(y_test, y_pred_rf)\n",
        "\n",
        "print(f\"\\nMétricas do Random Forest:\")\n",
        "print(f\"  RMSE: {rmse_rf:.4f}\")\n",
        "print(f\"  MAE:  {mae_rf:.4f}\")\n",
        "print(f\"  R²:   {r2_rf:.4f}\")"
      ],
      "metadata": {
        "id": "K9A7RyfNObe_",
        "colab": {
          "base_uri": "https://localhost:8080/",
          "height": 443
        },
        "outputId": "05441b48-ca98-42d2-dbdc-98511ca5dc32"
      },
      "execution_count": 27,
      "outputs": [
        {
          "output_type": "stream",
          "name": "stdout",
          "text": [
            "\n",
            "======================================================================\n",
            "6. RANDOM FOREST REGRESSOR (SCIKIT-LEARN)\n",
            "\n",
            "Treinando Random Forest...\n"
          ]
        },
        {
          "output_type": "error",
          "ename": "KeyboardInterrupt",
          "evalue": "",
          "traceback": [
            "\u001b[0;31m---------------------------------------------------------------------------\u001b[0m",
            "\u001b[0;31mKeyboardInterrupt\u001b[0m                         Traceback (most recent call last)",
            "\u001b[0;32m/tmp/ipython-input-180273974.py\u001b[0m in \u001b[0;36m<cell line: 0>\u001b[0;34m()\u001b[0m\n\u001b[1;32m      5\u001b[0m \u001b[0mrf_model\u001b[0m \u001b[0;34m=\u001b[0m \u001b[0mRandomForestRegressor\u001b[0m\u001b[0;34m(\u001b[0m\u001b[0mn_estimators\u001b[0m\u001b[0;34m=\u001b[0m\u001b[0;36m100\u001b[0m\u001b[0;34m,\u001b[0m \u001b[0mrandom_state\u001b[0m\u001b[0;34m=\u001b[0m\u001b[0;36m42\u001b[0m\u001b[0;34m,\u001b[0m \u001b[0mn_jobs\u001b[0m\u001b[0;34m=\u001b[0m\u001b[0;34m-\u001b[0m\u001b[0;36m1\u001b[0m\u001b[0;34m)\u001b[0m\u001b[0;34m\u001b[0m\u001b[0;34m\u001b[0m\u001b[0m\n\u001b[1;32m      6\u001b[0m \u001b[0mprint\u001b[0m\u001b[0;34m(\u001b[0m\u001b[0;34m\"\\nTreinando Random Forest...\"\u001b[0m\u001b[0;34m)\u001b[0m\u001b[0;34m\u001b[0m\u001b[0;34m\u001b[0m\u001b[0m\n\u001b[0;32m----> 7\u001b[0;31m \u001b[0mrf_model\u001b[0m\u001b[0;34m.\u001b[0m\u001b[0mfit\u001b[0m\u001b[0;34m(\u001b[0m\u001b[0mX_train_scaled\u001b[0m\u001b[0;34m,\u001b[0m \u001b[0my_train\u001b[0m\u001b[0;34m)\u001b[0m\u001b[0;34m\u001b[0m\u001b[0;34m\u001b[0m\u001b[0m\n\u001b[0m\u001b[1;32m      8\u001b[0m \u001b[0my_pred_rf\u001b[0m \u001b[0;34m=\u001b[0m \u001b[0mrf_model\u001b[0m\u001b[0;34m.\u001b[0m\u001b[0mpredict\u001b[0m\u001b[0;34m(\u001b[0m\u001b[0mX_test_scaled\u001b[0m\u001b[0;34m)\u001b[0m\u001b[0;34m\u001b[0m\u001b[0;34m\u001b[0m\u001b[0m\n\u001b[1;32m      9\u001b[0m \u001b[0;34m\u001b[0m\u001b[0m\n",
            "\u001b[0;32m/usr/local/lib/python3.12/dist-packages/sklearn/base.py\u001b[0m in \u001b[0;36mwrapper\u001b[0;34m(estimator, *args, **kwargs)\u001b[0m\n\u001b[1;32m   1387\u001b[0m                 )\n\u001b[1;32m   1388\u001b[0m             ):\n\u001b[0;32m-> 1389\u001b[0;31m                 \u001b[0;32mreturn\u001b[0m \u001b[0mfit_method\u001b[0m\u001b[0;34m(\u001b[0m\u001b[0mestimator\u001b[0m\u001b[0;34m,\u001b[0m \u001b[0;34m*\u001b[0m\u001b[0margs\u001b[0m\u001b[0;34m,\u001b[0m \u001b[0;34m**\u001b[0m\u001b[0mkwargs\u001b[0m\u001b[0;34m)\u001b[0m\u001b[0;34m\u001b[0m\u001b[0;34m\u001b[0m\u001b[0m\n\u001b[0m\u001b[1;32m   1390\u001b[0m \u001b[0;34m\u001b[0m\u001b[0m\n\u001b[1;32m   1391\u001b[0m         \u001b[0;32mreturn\u001b[0m \u001b[0mwrapper\u001b[0m\u001b[0;34m\u001b[0m\u001b[0;34m\u001b[0m\u001b[0m\n",
            "\u001b[0;32m/usr/local/lib/python3.12/dist-packages/sklearn/ensemble/_forest.py\u001b[0m in \u001b[0;36mfit\u001b[0;34m(self, X, y, sample_weight)\u001b[0m\n\u001b[1;32m    485\u001b[0m             \u001b[0;31m# parallel_backend contexts set at a higher level,\u001b[0m\u001b[0;34m\u001b[0m\u001b[0;34m\u001b[0m\u001b[0m\n\u001b[1;32m    486\u001b[0m             \u001b[0;31m# since correctness does not rely on using threads.\u001b[0m\u001b[0;34m\u001b[0m\u001b[0;34m\u001b[0m\u001b[0m\n\u001b[0;32m--> 487\u001b[0;31m             trees = Parallel(\n\u001b[0m\u001b[1;32m    488\u001b[0m                 \u001b[0mn_jobs\u001b[0m\u001b[0;34m=\u001b[0m\u001b[0mself\u001b[0m\u001b[0;34m.\u001b[0m\u001b[0mn_jobs\u001b[0m\u001b[0;34m,\u001b[0m\u001b[0;34m\u001b[0m\u001b[0;34m\u001b[0m\u001b[0m\n\u001b[1;32m    489\u001b[0m                 \u001b[0mverbose\u001b[0m\u001b[0;34m=\u001b[0m\u001b[0mself\u001b[0m\u001b[0;34m.\u001b[0m\u001b[0mverbose\u001b[0m\u001b[0;34m,\u001b[0m\u001b[0;34m\u001b[0m\u001b[0;34m\u001b[0m\u001b[0m\n",
            "\u001b[0;32m/usr/local/lib/python3.12/dist-packages/sklearn/utils/parallel.py\u001b[0m in \u001b[0;36m__call__\u001b[0;34m(self, iterable)\u001b[0m\n\u001b[1;32m     75\u001b[0m             \u001b[0;32mfor\u001b[0m \u001b[0mdelayed_func\u001b[0m\u001b[0;34m,\u001b[0m \u001b[0margs\u001b[0m\u001b[0;34m,\u001b[0m \u001b[0mkwargs\u001b[0m \u001b[0;32min\u001b[0m \u001b[0miterable\u001b[0m\u001b[0;34m\u001b[0m\u001b[0;34m\u001b[0m\u001b[0m\n\u001b[1;32m     76\u001b[0m         )\n\u001b[0;32m---> 77\u001b[0;31m         \u001b[0;32mreturn\u001b[0m \u001b[0msuper\u001b[0m\u001b[0;34m(\u001b[0m\u001b[0;34m)\u001b[0m\u001b[0;34m.\u001b[0m\u001b[0m__call__\u001b[0m\u001b[0;34m(\u001b[0m\u001b[0miterable_with_config\u001b[0m\u001b[0;34m)\u001b[0m\u001b[0;34m\u001b[0m\u001b[0;34m\u001b[0m\u001b[0m\n\u001b[0m\u001b[1;32m     78\u001b[0m \u001b[0;34m\u001b[0m\u001b[0m\n\u001b[1;32m     79\u001b[0m \u001b[0;34m\u001b[0m\u001b[0m\n",
            "\u001b[0;32m/usr/local/lib/python3.12/dist-packages/joblib/parallel.py\u001b[0m in \u001b[0;36m__call__\u001b[0;34m(self, iterable)\u001b[0m\n\u001b[1;32m   2070\u001b[0m         \u001b[0mnext\u001b[0m\u001b[0;34m(\u001b[0m\u001b[0moutput\u001b[0m\u001b[0;34m)\u001b[0m\u001b[0;34m\u001b[0m\u001b[0;34m\u001b[0m\u001b[0m\n\u001b[1;32m   2071\u001b[0m \u001b[0;34m\u001b[0m\u001b[0m\n\u001b[0;32m-> 2072\u001b[0;31m         \u001b[0;32mreturn\u001b[0m \u001b[0moutput\u001b[0m \u001b[0;32mif\u001b[0m \u001b[0mself\u001b[0m\u001b[0;34m.\u001b[0m\u001b[0mreturn_generator\u001b[0m \u001b[0;32melse\u001b[0m \u001b[0mlist\u001b[0m\u001b[0;34m(\u001b[0m\u001b[0moutput\u001b[0m\u001b[0;34m)\u001b[0m\u001b[0;34m\u001b[0m\u001b[0;34m\u001b[0m\u001b[0m\n\u001b[0m\u001b[1;32m   2073\u001b[0m \u001b[0;34m\u001b[0m\u001b[0m\n\u001b[1;32m   2074\u001b[0m     \u001b[0;32mdef\u001b[0m \u001b[0m__repr__\u001b[0m\u001b[0;34m(\u001b[0m\u001b[0mself\u001b[0m\u001b[0;34m)\u001b[0m\u001b[0;34m:\u001b[0m\u001b[0;34m\u001b[0m\u001b[0;34m\u001b[0m\u001b[0m\n",
            "\u001b[0;32m/usr/local/lib/python3.12/dist-packages/joblib/parallel.py\u001b[0m in \u001b[0;36m_get_outputs\u001b[0;34m(self, iterator, pre_dispatch)\u001b[0m\n\u001b[1;32m   1680\u001b[0m \u001b[0;34m\u001b[0m\u001b[0m\n\u001b[1;32m   1681\u001b[0m             \u001b[0;32mwith\u001b[0m \u001b[0mself\u001b[0m\u001b[0;34m.\u001b[0m\u001b[0m_backend\u001b[0m\u001b[0;34m.\u001b[0m\u001b[0mretrieval_context\u001b[0m\u001b[0;34m(\u001b[0m\u001b[0;34m)\u001b[0m\u001b[0;34m:\u001b[0m\u001b[0;34m\u001b[0m\u001b[0;34m\u001b[0m\u001b[0m\n\u001b[0;32m-> 1682\u001b[0;31m                 \u001b[0;32myield\u001b[0m \u001b[0;32mfrom\u001b[0m \u001b[0mself\u001b[0m\u001b[0;34m.\u001b[0m\u001b[0m_retrieve\u001b[0m\u001b[0;34m(\u001b[0m\u001b[0;34m)\u001b[0m\u001b[0;34m\u001b[0m\u001b[0;34m\u001b[0m\u001b[0m\n\u001b[0m\u001b[1;32m   1683\u001b[0m \u001b[0;34m\u001b[0m\u001b[0m\n\u001b[1;32m   1684\u001b[0m         \u001b[0;32mexcept\u001b[0m \u001b[0mGeneratorExit\u001b[0m\u001b[0;34m:\u001b[0m\u001b[0;34m\u001b[0m\u001b[0;34m\u001b[0m\u001b[0m\n",
            "\u001b[0;32m/usr/local/lib/python3.12/dist-packages/joblib/parallel.py\u001b[0m in \u001b[0;36m_retrieve\u001b[0;34m(self)\u001b[0m\n\u001b[1;32m   1798\u001b[0m                     \u001b[0mself\u001b[0m\u001b[0;34m.\u001b[0m\u001b[0m_jobs\u001b[0m\u001b[0;34m[\u001b[0m\u001b[0;36m0\u001b[0m\u001b[0;34m]\u001b[0m\u001b[0;34m.\u001b[0m\u001b[0mget_status\u001b[0m\u001b[0;34m(\u001b[0m\u001b[0mtimeout\u001b[0m\u001b[0;34m=\u001b[0m\u001b[0mself\u001b[0m\u001b[0;34m.\u001b[0m\u001b[0mtimeout\u001b[0m\u001b[0;34m)\u001b[0m \u001b[0;34m==\u001b[0m \u001b[0mTASK_PENDING\u001b[0m\u001b[0;34m\u001b[0m\u001b[0;34m\u001b[0m\u001b[0m\n\u001b[1;32m   1799\u001b[0m                 ):\n\u001b[0;32m-> 1800\u001b[0;31m                     \u001b[0mtime\u001b[0m\u001b[0;34m.\u001b[0m\u001b[0msleep\u001b[0m\u001b[0;34m(\u001b[0m\u001b[0;36m0.01\u001b[0m\u001b[0;34m)\u001b[0m\u001b[0;34m\u001b[0m\u001b[0;34m\u001b[0m\u001b[0m\n\u001b[0m\u001b[1;32m   1801\u001b[0m                     \u001b[0;32mcontinue\u001b[0m\u001b[0;34m\u001b[0m\u001b[0;34m\u001b[0m\u001b[0m\n\u001b[1;32m   1802\u001b[0m \u001b[0;34m\u001b[0m\u001b[0m\n",
            "\u001b[0;31mKeyboardInterrupt\u001b[0m: "
          ]
        }
      ]
    },
    {
      "cell_type": "code",
      "source": [
        "# Comparando modelos - Criação de DataFrame com resultados\n",
        "results = pd.DataFrame({\n",
        "    'Modelo': ['Rede Neural (Keras)', 'Linear Regression', 'Random Forest'],\n",
        "    'RMSE': [rmse_nn, rmse_lr, rmse_rf],\n",
        "    'MAE': [mae_nn, mae_lr, mae_rf],\n",
        "    'R²': [r2_nn, r2_lr, r2_rf]\n",
        "})\n",
        "\n",
        "print(\"\\n\" + results.to_string(index=False))"
      ],
      "metadata": {
        "id": "Bq5-wd5qOido",
        "colab": {
          "base_uri": "https://localhost:8080/"
        },
        "outputId": "d570bfcc-4a80-4229-fec6-7d2d3bc7f7d3"
      },
      "execution_count": 17,
      "outputs": [
        {
          "output_type": "stream",
          "name": "stdout",
          "text": [
            "\n",
            "             Modelo     RMSE      MAE       R²\n",
            "Rede Neural (Keras) 0.530388 0.357489 0.785325\n",
            "  Linear Regression 0.745581 0.533200 0.575788\n",
            "      Random Forest 0.505143 0.327425 0.805275\n"
          ]
        }
      ]
    },
    {
      "cell_type": "code",
      "source": [
        "# Identificar o melhor modelo\n",
        "best_rmse = results.loc[results['RMSE'].idxmin(), 'Modelo']\n",
        "best_mae = results.loc[results['MAE'].idxmin(), 'Modelo']\n",
        "best_r2 = results.loc[results['R²'].idxmax(), 'Modelo']\n",
        "\n",
        "print(f\"\\n🏆 Melhor modelo por RMSE: {best_rmse}\")\n",
        "print(f\"🏆 Melhor modelo por MAE:  {best_mae}\")\n",
        "print(f\"🏆 Melhor modelo por R²:   {best_r2}\")"
      ],
      "metadata": {
        "id": "tji3NIycOjK9",
        "colab": {
          "base_uri": "https://localhost:8080/"
        },
        "outputId": "04489984-a161-4ab1-f96e-0019d0c540ca"
      },
      "execution_count": 18,
      "outputs": [
        {
          "output_type": "stream",
          "name": "stdout",
          "text": [
            "\n",
            "🏆 Melhor modelo por RMSE: Random Forest\n",
            "🏆 Melhor modelo por MAE:  Random Forest\n",
            "🏆 Melhor modelo por R²:   Random Forest\n"
          ]
        }
      ]
    },
    {
      "cell_type": "code",
      "source": [
        "# Determinar o vencedor geral\n",
        "rmse_scores = {'Rede Neural': rmse_nn, 'Linear Regression': rmse_lr, 'Random Forest': rmse_rf}\n",
        "winner = min(rmse_scores, key=rmse_scores.get)\n",
        "\n",
        "if winner == 'Random Forest':\n",
        "    print(f\"\"\"\n",
        "✓ O Random Forest apresentou o MELHOR desempenho geral:\n",
        "  - Menor RMSE e MAE\n",
        "  - Maior R²\n",
        "  - Captura bem as não-linearidades do dataset\n",
        "  - Não requer pré-processamento extensivo\n",
        "    \"\"\")\n",
        "elif winner == 'Rede Neural':\n",
        "    print(f\"\"\"\n",
        "✓ A Rede Neural apresentou o MELHOR desempenho geral:\n",
        "  - Menor RMSE e MAE\n",
        "  - Conseguiu aprender padrões complexos nos dados\n",
        "  - Com mais ajuste (epochs, arquitetura) pode melhorar ainda mais\n",
        "    \"\"\")\n",
        "else:\n",
        "    print(f\"\"\"\n",
        "✓ A Regressão Linear apresentou desempenho competitivo:\n",
        "  - Modelo mais simples e interpretável\n",
        "  - Bom baseline considerando sua simplicidade\n",
        "  - Indica que há forte componente linear nos dados\n",
        "    \"\"\")\n",
        "\n",
        "print(\"\"\"\n",
        "- Para produção: usar Random Forest ou Rede Neural (melhor performance)\n",
        "- Para interpretabilidade: usar Linear Regression\n",
        "- Para melhorar a Rede Neural: ajustar arquitetura, epochs, learning rate\n",
        "- Considerar ensemble de modelos para melhor generalização\n",
        "\"\"\")"
      ],
      "metadata": {
        "id": "sOvDxkj6PJ6V",
        "colab": {
          "base_uri": "https://localhost:8080/"
        },
        "outputId": "d7b71631-ac7b-4e40-cea8-b5d493e277c2"
      },
      "execution_count": 25,
      "outputs": [
        {
          "output_type": "stream",
          "name": "stdout",
          "text": [
            "\n",
            "✓ O Random Forest apresentou o MELHOR desempenho geral:\n",
            "  - Menor RMSE e MAE\n",
            "  - Maior R²\n",
            "  - Captura bem as não-linearidades do dataset\n",
            "  - Não requer pré-processamento extensivo\n",
            "    \n",
            "\n",
            "💡 RECOMENDAÇÕES:\n",
            "- Para produção: usar Random Forest ou Rede Neural (melhor performance)\n",
            "- Para interpretabilidade: usar Linear Regression\n",
            "- Para melhorar a Rede Neural: ajustar arquitetura, epochs, learning rate\n",
            "- Considerar ensemble de modelos para melhor generalização\n",
            "\n",
            "======================================================================\n",
            "EXERCÍCIO CONCLUÍDO! ✓\n",
            "======================================================================\n"
          ]
        }
      ]
    }
  ]
}