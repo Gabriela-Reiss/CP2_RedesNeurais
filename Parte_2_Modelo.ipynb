{
  "nbformat": 4,
  "nbformat_minor": 0,
  "metadata": {
    "colab": {
      "provenance": [],
      "mount_file_id": "1DumVfLBiJeu4LmhvZTqhlwNdJzBYDZr6",
      "authorship_tag": "ABX9TyPeuhiXv/x2w4f7Pk2vXoIM",
      "include_colab_link": true
    },
    "kernelspec": {
      "name": "python3",
      "display_name": "Python 3"
    },
    "language_info": {
      "name": "python"
    }
  },
  "cells": [
    {
      "cell_type": "markdown",
      "metadata": {
        "id": "view-in-github",
        "colab_type": "text"
      },
      "source": [
        "<a href=\"https://colab.research.google.com/github/Gabriela-Reiss/CP2_RedesNeurais/blob/main/Parte_2_Modelo.ipynb\" target=\"_parent\"><img src=\"https://colab.research.google.com/assets/colab-badge.svg\" alt=\"Open In Colab\"/></a>"
      ]
    },
    {
      "cell_type": "markdown",
      "source": [
        "## **Modelo de Classificação: Detection Cats And Dogs**"
      ],
      "metadata": {
        "id": "ugaBMM-RBMWC"
      }
    },
    {
      "cell_type": "markdown",
      "source": [
        "### Teste com modelo de classificação de cachorros e gatos desenvolvido no Roboflow com YOLOv8"
      ],
      "metadata": {
        "id": "Jwz6beBqBHGg"
      }
    },
    {
      "cell_type": "markdown",
      "source": [
        "**Importações necessárias:**\n",
        "\n",
        "- Pacote de Inferências do Roboflow:\n",
        "\n",
        "    \"pip install inference-sdk\""
      ],
      "metadata": {
        "id": "yMS1tZHEAmt4"
      }
    },
    {
      "cell_type": "code",
      "source": [
        "from inference_sdk import InferenceHTTPClient\n",
        "\n",
        "\n",
        "client = InferenceHTTPClient(\n",
        "    api_url=\"https://serverless.roboflow.com\",\n",
        "    api_key=\"{API_KEY}\"\n",
        ")\n",
        "\n",
        "\n",
        "image_path = \"/content/cachorrinho1.jfif\"\n",
        "\n",
        "\n",
        "result = client.run_workflow(\n",
        "    workspace_name=\"cp05iot\",\n",
        "    workflow_id=\"custom-workflow-2\",\n",
        "    images={\n",
        "        \"image\": image_path\n",
        "    },\n",
        "    use_cache=True\n",
        ")\n"
      ],
      "metadata": {
        "id": "1s6B7Dos0bj7"
      },
      "execution_count": null,
      "outputs": []
    },
    {
      "cell_type": "code",
      "source": [
        "filtered_predictions = []\n",
        "for prediction in result[0]['model_predictions']['predictions']:\n",
        "    if prediction['class'] in ['dog', 'cat']:\n",
        "        filtered_predictions.append(prediction)\n",
        "\n",
        "# Exibir as predições filtradas\n",
        "for prediction in filtered_predictions:\n",
        "    print(\"Resultados modelo\")\n",
        "    print(f\"Classe: {prediction['class']}\")\n",
        "    print(f\"Confiança: {prediction['confidence'] * 100:.2f}%\")"
      ],
      "metadata": {
        "colab": {
          "base_uri": "https://localhost:8080/"
        },
        "id": "KYUMGS_m30xb",
        "outputId": "a93a7f8d-91ee-4d03-9adc-d8e7e032379c"
      },
      "execution_count": null,
      "outputs": [
        {
          "output_type": "stream",
          "name": "stdout",
          "text": [
            "Classe: dog\n",
            "Confiança: 90.01%\n"
          ]
        }
      ]
    },
    {
      "cell_type": "markdown",
      "source": [
        "## **Azure Computer Vision**\n",
        "\n",
        "Utilizando a ferramenta Computer Vision da Azure para detecção e classificação de imagem"
      ],
      "metadata": {
        "id": "gaRSJSMArFtZ"
      }
    },
    {
      "cell_type": "markdown",
      "source": [
        "**Importações necessárias:**\n",
        "\n",
        "- SDK oficial do Azure (com biblioteca Python) para uso do Azure Computer Vision:\n",
        "\n",
        "    \"pip install azure-cognitiveservices-vision-computervision\""
      ],
      "metadata": {
        "id": "c3fgLrf7raSp"
      }
    },
    {
      "cell_type": "code",
      "source": [
        "from azure.cognitiveservices.vision.computervision import ComputerVisionClient\n",
        "from msrest.authentication import CognitiveServicesCredentials\n",
        "\n",
        "key = \"{API_KEY}\"\n",
        "endpoint = \"{ENDPOINT_AZ_COMPUTER_VISION}\"\n",
        "\n",
        "client = ComputerVisionClient(endpoint, CognitiveServicesCredentials(key))\n",
        "\n",
        "image_path = \"/content/gatinho1.jfif\"\n",
        "\n",
        "with open(image_path, \"rb\") as image_stream:\n",
        "    tags_result = client.tag_image_in_stream(image_stream)\n",
        "\n",
        "print(\"Resultados Azure Computer Vision:\")\n",
        "for tag in tags_result.tags:\n",
        "    print(f\"{tag.name}: {tag.confidence:.2f}\")\n"
      ],
      "metadata": {
        "colab": {
          "base_uri": "https://localhost:8080/"
        },
        "id": "gH4jKr0Z-afo",
        "outputId": "7daef884-f136-44b7-bb32-e39879e80507"
      },
      "execution_count": null,
      "outputs": [
        {
          "output_type": "stream",
          "name": "stdout",
          "text": [
            "Resultados Azure Computer Vision:\n",
            "cat: 1.00\n",
            "mammal: 1.00\n",
            "animal: 1.00\n",
            "domestic cat: 0.99\n",
            "small to medium-sized cats: 0.98\n",
            "whiskers: 0.97\n",
            "felidae: 0.95\n",
            "snout: 0.86\n",
            "domestic short-haired cat: 0.85\n",
            "malayan cat: 0.85\n",
            "gray: 0.71\n",
            "grey: 0.63\n",
            "plant: 0.59\n",
            "outdoor: 0.56\n"
          ]
        }
      ]
    },
    {
      "cell_type": "markdown",
      "source": [
        "### **Conclusão Comparativa**\n",
        "\n",
        "O modelo do Azure reconheceu corretamente a presença de um cachorro (com alta confiança), além de identificar o ambiente (\"outdoor\", \"grass\"). Ele também estimou a raça (“labrador retriever”, “golden retriever”) com alta confiança, mostrando capacidade de generalização."
      ],
      "metadata": {
        "id": "25zgF1WJDITo"
      }
    }
  ]
}